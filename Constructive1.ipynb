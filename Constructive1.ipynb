{
 "cells": [
  {
   "cell_type": "code",
   "execution_count": 4,
   "metadata": {},
   "outputs": [],
   "source": [
    "import numpy as np\n",
    "import matplotlib.pyplot as plt\n",
    "from math import sqrt\n",
    "from operator import itemgetter\n",
    "from numpy.random import default_rng\n",
    "\n",
    "p = 50\n",
    "f = 10\n",
    "sf = 5\n",
    "r = 5\n",
    "\n",
    "title = \"p = \" + str(p) + \" f = \" + str(f) + \" sf = \" + str(sf) + \" r  =\" + str(r)\n",
    "\n",
    "# Generate Demand points\n",
    "dx_points = default_rng().choice(p, size=(p - f), replace=False)\n",
    "dy_points = default_rng().choice(p, size=(p - f), replace=False)\n",
    "\n",
    "# Generate candidate sites\n",
    "csx_points = default_rng().choice(p, size=(f), replace=False)\n",
    "csy_points = default_rng().choice(p, size=(f), replace=False)\n",
    "\n",
    "# Data to analize\n",
    "demand_points = []\n",
    "candidate_sites = []\n",
    "\n",
    "for x in range(p - f):\n",
    "    demand_points.append([dx_points[x], dy_points[x]])\n",
    "\n",
    "for x in range(f):\n",
    "    candidate_sites.append([csx_points[x], csy_points[x]])\n",
    "\n",
    "\n",
    "# Divide data\n",
    "non_selected_sites = list(candidate_sites)\n",
    "non_covered_points = list(demand_points)\n",
    "selected_sites = []\n",
    "covered_points = []\n"
   ]
  },
  {
   "cell_type": "code",
   "execution_count": 5,
   "metadata": {},
   "outputs": [],
   "source": [
    "def showInitialPlot(d_points, cs_points):\n",
    "    fig = plt.figure(figsize=(10,10))\n",
    "    plt.title(title)\n",
    "    plt.suptitle('Random Generated Demand and Candidate Points')\n",
    "    if p >= 100:\n",
    "        ms = 1\n",
    "    else:\n",
    "        ms = 20\n",
    "    plt.scatter([i[0] for i in d_points], [i[1] for i in d_points], c='black', s=ms)\n",
    "    plt.scatter([i[0] for i in cs_points], [i[1] for i in cs_points], c='red', s=ms + 15)\n",
    "    plt.savefig(\"firstg.jpg\")\n",
    "    plt.show()\n",
    "\n",
    "\n",
    "def addCirclesToPlot(d_points, cs_points, selected_points, of):\n",
    "    fig = plt.figure(figsize=(10,10))\n",
    "    ax = plt.gca()\n",
    "    plt.title(title)\n",
    "    plt.suptitle('Random Generated Demand and Candidate Points')\n",
    "    if p >= 100:\n",
    "        ms = 1\n",
    "    else:\n",
    "        ms = 20\n",
    "    plt.scatter([i[0] for i in d_points], [i[1] for i in d_points], c='black', s=ms)\n",
    "    plt.scatter([i[0] for i in cs_points], [i[1] for i in cs_points], c='red', s=ms + 15)\n",
    "    for point in selected_points:\n",
    "        circle = plt.Circle((point[0], point[1]), r, color='blue', fill=False)\n",
    "        ax.add_patch(circle)\n",
    "    plt.xlabel('Objective Function: ' + str(of))\n",
    "    plt.savefig(\"secondg.jpg\")\n",
    "    plt.show()"
   ]
  },
  {
   "cell_type": "code",
   "execution_count": 6,
   "metadata": {},
   "outputs": [
    {
     "name": "stdout",
     "output_type": "stream",
     "text": [
      "Selected sites: []\n",
      "Non selected sites [[26, 6], [37, 47], [38, 26], [25, 10], [30, 15], [11, 49], [10, 24], [17, 38], [18, 34], [8, 48]]\n",
      "Covered points: []\n",
      "Non covered points: [[24, 34], [42, 13], [37, 27], [39, 4], [5, 7], [19, 35], [33, 19], [25, 17], [22, 48], [34, 15], [8, 30], [31, 45], [14, 41], [48, 18], [35, 38], [47, 33], [18, 24], [49, 49], [16, 12], [10, 1], [26, 37], [28, 8], [15, 3], [40, 28], [7, 42], [41, 9], [1, 36], [20, 26], [44, 10], [21, 25], [11, 44], [29, 43], [46, 22], [43, 14], [27, 0], [13, 31], [32, 11], [2, 16], [6, 32], [0, 39]]\n",
      "Objective function 0\n"
     ]
    }
   ],
   "source": [
    "of = 0\n",
    "\n",
    "while len(selected_sites)>sf:\n",
    "    print(\"a\")\n",
    "    for site in non_selected_sites:\n",
    "        count = 0\n",
    "        for point in non_covered_points:\n",
    "            d = sqrt((point[0] - site[0]) ** 2 + (site[1] - point[1]) ** 2)\n",
    "            if d < r:\n",
    "                covered_points.append(point)\n",
    "                non_covered_points.remove(point)\n",
    "                count += 1\n",
    "        if count > 1:\n",
    "            selected_sites.append(site)\n",
    "            non_selected_sites.remove(site)\n",
    "        of += count\n",
    "\n",
    "print(\"Selected sites:\", selected_sites)\n",
    "print(\"Non selected sites\", non_selected_sites)\n",
    "print(\"Covered points:\", covered_points)\n",
    "print(\"Non covered points:\", non_covered_points)\n",
    "print(\"Objective function\", of)\n",
    "            "
   ]
  }
 ],
 "metadata": {
  "interpreter": {
   "hash": "d00baae213206b3dae6785ba496476f94d7a2ba68968b82a3f143e776f740744"
  },
  "kernelspec": {
   "display_name": "Python 3.10.4 64-bit",
   "language": "python",
   "name": "python3"
  },
  "language_info": {
   "codemirror_mode": {
    "name": "ipython",
    "version": 3
   },
   "file_extension": ".py",
   "mimetype": "text/x-python",
   "name": "python",
   "nbconvert_exporter": "python",
   "pygments_lexer": "ipython3",
   "version": "3.10.4"
  },
  "orig_nbformat": 4
 },
 "nbformat": 4,
 "nbformat_minor": 2
}
