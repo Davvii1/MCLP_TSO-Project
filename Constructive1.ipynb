{
 "cells": [
  {
   "cell_type": "code",
   "execution_count": 10,
   "metadata": {},
   "outputs": [],
   "source": [
    "import numpy as np\n",
    "import matplotlib.pyplot as plt\n",
    "from math import sqrt\n",
    "from operator import itemgetter\n",
    "from numpy.random import default_rng\n",
    "\n",
    "p = 50\n",
    "f = 10\n",
    "sf = 5\n",
    "r = 5\n",
    "\n",
    "title = \"p = \" + str(p) + \" f = \" + str(f) + \" sf = \" + str(sf) + \" r  =\" + str(r)\n",
    "\n",
    "# Generate Demand points\n",
    "dx_points = default_rng().choice(p, size=(p - f), replace=False)\n",
    "dy_points = default_rng().choice(p, size=(p - f), replace=False)\n",
    "\n",
    "# Generate candidate sites\n",
    "csx_points = default_rng().choice(p, size=(f), replace=False)\n",
    "csy_points = default_rng().choice(p, size=(f), replace=False)\n",
    "\n",
    "# Data to analize\n",
    "demand_points = []\n",
    "candidate_sites = []\n",
    "\n",
    "for x in range(p - f):\n",
    "    demand_points.append([dx_points[x], dy_points[x]])\n",
    "\n",
    "for x in range(f):\n",
    "    candidate_sites.append([csx_points[x], csy_points[x]])\n",
    "\n",
    "\n",
    "# Divide data\n",
    "non_selected_sites = list(candidate_sites)\n",
    "non_covered_points = list(demand_points)\n"
   ]
  },
  {
   "cell_type": "code",
   "execution_count": 11,
   "metadata": {},
   "outputs": [],
   "source": [
    "def showInitialPlot(d_points, cs_points):\n",
    "    fig = plt.figure(figsize=(10,10))\n",
    "    plt.title(title)\n",
    "    plt.suptitle('Random Generated Demand and Candidate Points')\n",
    "    if p >= 100:\n",
    "        ms = 1\n",
    "    else:\n",
    "        ms = 20\n",
    "    plt.scatter([i[0] for i in d_points], [i[1] for i in d_points], c='black', s=ms)\n",
    "    plt.scatter([i[0] for i in cs_points], [i[1] for i in cs_points], c='red', s=ms + 15)\n",
    "    plt.savefig(\"firstg.jpg\")\n",
    "    plt.show()\n",
    "\n",
    "\n",
    "def addCirclesToPlot(d_points, cs_points, selected_points, of):\n",
    "    fig = plt.figure(figsize=(10,10))\n",
    "    ax = plt.gca()\n",
    "    plt.title(title)\n",
    "    plt.suptitle('Random Generated Demand and Candidate Points')\n",
    "    if p >= 100:\n",
    "        ms = 1\n",
    "    else:\n",
    "        ms = 20\n",
    "    plt.scatter([i[0] for i in d_points], [i[1] for i in d_points], c='black', s=ms)\n",
    "    plt.scatter([i[0] for i in cs_points], [i[1] for i in cs_points], c='red', s=ms + 15)\n",
    "    for point in selected_points:\n",
    "        circle = plt.Circle((point[0], point[1]), r, color='blue', fill=False)\n",
    "        ax.add_patch(circle)\n",
    "    plt.xlabel('Objective Function: ' + str(of))\n",
    "    plt.savefig(\"secondg.jpg\")\n",
    "    plt.show()"
   ]
  },
  {
   "cell_type": "code",
   "execution_count": 12,
   "metadata": {},
   "outputs": [
    {
     "name": "stdout",
     "output_type": "stream",
     "text": [
      "Selected sites: [[23, 34], [30, 35], [10, 32], [31, 7], [18, 17]]\n",
      "Non selected sites [[34, 46], [45, 5], [49, 26], [35, 28], [43, 14]]\n",
      "Covered points: [[23, 38], [25, 36], [22, 33], [28, 37], [34, 35], [43, 9], [9, 29], [10, 30], [36, 26], [27, 7], [30, 4], [33, 8], [16, 18], [17, 15], [19, 13], [41, 5]]\n",
      "Non covered points: [[40, 10], [2, 20], [21, 27], [14, 25], [45, 47], [7, 49], [42, 32], [32, 23], [47, 44], [0, 3], [48, 0], [3, 42], [46, 43], [1, 11], [29, 19], [26, 16], [44, 48], [24, 6], [6, 22], [5, 41], [8, 17], [12, 21], [18, 2], [13, 39]]\n",
      "Objective function 16\n"
     ]
    }
   ],
   "source": [
    "of = 0\n",
    "selected_sites = []\n",
    "covered_points = []\n",
    "S = len(selected_sites)\n",
    "\n",
    "for i in range(sf):\n",
    "    for site in non_selected_sites:\n",
    "        count = 0\n",
    "        for point in non_covered_points:\n",
    "            d = sqrt((point[0] - site[0]) ** 2 + (site[1] - point[1]) ** 2)\n",
    "            if d < r:\n",
    "                covered_points.append(point)\n",
    "                non_covered_points.remove(point)\n",
    "                count += 1\n",
    "        if count > 1:\n",
    "            selected_sites.append(site)\n",
    "            non_selected_sites.remove(site)\n",
    "        of += count\n",
    "\n",
    "print(\"Selected sites:\", selected_sites)\n",
    "print(\"Non selected sites\", non_selected_sites)\n",
    "print(\"Covered points:\", covered_points)\n",
    "print(\"Non covered points:\", non_covered_points)\n",
    "print(\"Objective function\", of)\n",
    "            "
   ]
  }
 ],
 "metadata": {
  "interpreter": {
   "hash": "71a0f6c7518cb3d2dbb609f5b9b313573fdc321fa126a77f88c0cb61428877ee"
  },
  "kernelspec": {
   "display_name": "Python 3.10.4 64-bit",
   "language": "python",
   "name": "python3"
  },
  "language_info": {
   "codemirror_mode": {
    "name": "ipython",
    "version": 3
   },
   "file_extension": ".py",
   "mimetype": "text/x-python",
   "name": "python",
   "nbconvert_exporter": "python",
   "pygments_lexer": "ipython3",
   "version": "3.10.4"
  },
  "orig_nbformat": 4
 },
 "nbformat": 4,
 "nbformat_minor": 2
}
